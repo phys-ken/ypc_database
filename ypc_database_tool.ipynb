{
  "nbformat": 4,
  "nbformat_minor": 5,
  "metadata": {
    "kernelspec": {
      "display_name": "Python 3 (ipykernel)",
      "language": "python",
      "name": "python3"
    },
    "language_info": {
      "codemirror_mode": {
        "name": "ipython",
        "version": 3
      },
      "file_extension": ".py",
      "mimetype": "text/x-python",
      "name": "python",
      "nbconvert_exporter": "python",
      "pygments_lexer": "ipython3",
      "version": "3.8.10"
    },
    "colab": {
      "name": "ypc_database_tool.ipynb",
      "provenance": [],
      "collapsed_sections": [],
      "include_colab_link": true
    }
  },
  "cells": [
    {
      "cell_type": "markdown",
      "metadata": {
        "id": "view-in-github",
        "colab_type": "text"
      },
      "source": [
        "<a href=\"https://colab.research.google.com/github/phys-ken/ypc_database/blob/master/ypc_database_tool.ipynb\" target=\"_parent\"><img src=\"https://colab.research.google.com/assets/colab-badge.svg\" alt=\"Open In Colab\"/></a>"
      ]
    },
    {
      "cell_type": "markdown",
      "metadata": {
        "id": "-t8kDEnAazif"
      },
      "source": [
        "# YPCの例会アルバムをスクレイピングする\n",
        "* [YPC過去の例会アルバム](https://www2.hamajima.co.jp/~tenjin/ypc/ypcalbum.html)にアクセスして、全部のリンク先の記事にアクセスして、文書データのみをcsvで出力します。大体、20分くらいかかります。\n",
        "\n",
        "### 技術的な解説\n",
        "* pythonのBeautifulsoup4でスクレイピングし、改行コード等はテキスト処理で切り取っています。\n",
        "* pandasにデータフレームとして呼び込み、行列を整理し出力します。\n",
        "* [こちら](https://phys-ken.github.io/ypc_database/README.html)のページで、csvを検索することが可能になっています。"
      ],
      "id": "-t8kDEnAazif"
    },
    {
      "cell_type": "code",
      "metadata": {
        "id": "119f74dd-d6aa-45f1-821e-a68e71b2dc8c"
      },
      "source": [
        "#!pip install chardet\n",
        "#文字化け対策(https://orangain.hatenablog.com/entry/encoding-in-requests-and-beautiful-soup)\n",
        "#!pip install tqdm"
      ],
      "id": "119f74dd-d6aa-45f1-821e-a68e71b2dc8c",
      "execution_count": 1,
      "outputs": []
    },
    {
      "cell_type": "code",
      "metadata": {
        "id": "4f761c56-2806-4da4-a8d4-6ac8ec4a1c3a"
      },
      "source": [
        "from bs4 import BeautifulSoup\n",
        "import requests\n",
        "import pandas as pd\n",
        "import time\n",
        "import tqdm"
      ],
      "id": "4f761c56-2806-4da4-a8d4-6ac8ec4a1c3a",
      "execution_count": 2,
      "outputs": []
    },
    {
      "cell_type": "code",
      "metadata": {
        "id": "b1980140-b0dc-4ac5-ade9-f91824382d3e"
      },
      "source": [
        "url = \"https://www2.hamajima.co.jp/~tenjin/ypc/ypcalbum.html\"\n",
        "r = requests.get(url)\n",
        "time.sleep(3)"
      ],
      "id": "b1980140-b0dc-4ac5-ade9-f91824382d3e",
      "execution_count": 3,
      "outputs": []
    },
    {
      "cell_type": "code",
      "metadata": {
        "id": "68102ca7-2dec-4078-a06c-f6e7bb865d0e"
      },
      "source": [
        "soup = BeautifulSoup(r.content, \"html.parser\")"
      ],
      "id": "68102ca7-2dec-4078-a06c-f6e7bb865d0e",
      "execution_count": 4,
      "outputs": []
    },
    {
      "cell_type": "code",
      "metadata": {
        "id": "b939dab2-c70a-44ff-90eb-c8891a8691d9"
      },
      "source": [
        "titles_html = soup.find_all(\"dt\")\n",
        "titles = []\n",
        "for title in titles_html:\n",
        "    titles.append(title.find(\"a\"))"
      ],
      "id": "b939dab2-c70a-44ff-90eb-c8891a8691d9",
      "execution_count": 5,
      "outputs": []
    },
    {
      "cell_type": "code",
      "metadata": {
        "id": "92647144-7709-4a55-bf95-4e5d508341bb"
      },
      "source": [
        "top_url = \"https://www2.hamajima.co.jp/~tenjin/ypc/\"\n",
        "\n",
        "url_list = []\n",
        "for title in titles:\n",
        "    url_list.append([title.get_text(),top_url + title.get(\"href\")])"
      ],
      "id": "92647144-7709-4a55-bf95-4e5d508341bb",
      "execution_count": 6,
      "outputs": []
    },
    {
      "cell_type": "code",
      "metadata": {
        "colab": {
          "base_uri": "https://localhost:8080/"
        },
        "id": "bb2cf7a7-d6bc-4f19-bf9a-7b24b55edd7c",
        "outputId": "d7314918-222b-43ee-ef27-d63e1fc56ca8"
      },
      "source": [
        "print(\"全部で\" + str(len(url_list)) + \"回処理を行います、\")\n",
        "\n",
        "for i in tqdm.tqdm(range(len(url_list))):\n",
        "    r = requests.get(url_list[i][1])\n",
        "    time.sleep(3)\n",
        "    soup =  BeautifulSoup(r.content, \"html.parser\")\n",
        "\n",
        "    ps =soup.find_all(\"p\")\n",
        "\n",
        "    strip_p = []\n",
        "    for p in ps:\n",
        "        if p.get(\"align\") == None:\n",
        "            strip_p.append(p)\n",
        "\n",
        "    theme_list = []\n",
        "    counter = -1\n",
        "\n",
        "    for p in strip_p:\n",
        "        try:\n",
        "            if p.find(\"font\").get(\"size\") == (\"+3\"):\n",
        "                counter += 1\n",
        "                theme_list.append([p.find(\"font\").get_text()])\n",
        "                theme_list[counter].append(\"\")\n",
        "                theme_list[counter][1] += p.get_text().strip().replace( '\\n' , '.' )\n",
        "            else:\n",
        "                theme_list[counter][1] += p.get_text().strip().replace( '\\n' , '.' )\n",
        "        except:\n",
        "            try:\n",
        "                theme_list[counter][1] += p.get_text().strip().replace( '\\n' , '.' )\n",
        "            except:\n",
        "                pass\n",
        "\n",
        "    url_list[i].append(theme_list)\n",
        "    #print(\"\\r\" + str(i).zfill(5)+\"回目の処理を終えました！\" , end=\"\")\n",
        "          \n",
        "print(\"スクレイピングが終了しました。\")"
      ],
      "id": "bb2cf7a7-d6bc-4f19-bf9a-7b24b55edd7c",
      "execution_count": 7,
      "outputs": [
        {
          "output_type": "stream",
          "name": "stdout",
          "text": [
            "全部で287回処理を行います、\n"
          ]
        },
        {
          "output_type": "stream",
          "name": "stderr",
          "text": [
            "100%|██████████| 287/287 [17:09<00:00,  3.59s/it]"
          ]
        },
        {
          "output_type": "stream",
          "name": "stdout",
          "text": [
            "スクレイピングが終了しました。\n"
          ]
        },
        {
          "output_type": "stream",
          "name": "stderr",
          "text": [
            "\n"
          ]
        }
      ]
    },
    {
      "cell_type": "code",
      "metadata": {
        "colab": {
          "base_uri": "https://localhost:8080/",
          "height": 589
        },
        "id": "81e4997c-8826-4837-9397-f22139dee1d3",
        "outputId": "b602b460-a0a3-489e-888d-99f0888df550"
      },
      "source": [
        "#空のデータフレームをはじめに作って、そこにどんどん結合していく\n",
        "import pandas as pd\n",
        "df = pd.DataFrame()\n",
        "\n",
        "for i in range(len(url_list)):\n",
        "    df_tmp = pd.DataFrame(url_list[i][2],columns=[\"theme\",\"text\"])\n",
        "    df_tmp[\"title\"] = url_list[i][0]\n",
        "    df_tmp[\"url\"] = url_list[i][1]\n",
        "    df = pd.concat([df,df_tmp])\n",
        "\n",
        "df = df.reset_index()\n",
        "df = df.drop(df.columns[[0]], axis=1)\n",
        "df"
      ],
      "id": "81e4997c-8826-4837-9397-f22139dee1d3",
      "execution_count": 14,
      "outputs": [
        {
          "output_type": "execute_result",
          "data": {
            "text/html": [
              "<div>\n",
              "<style scoped>\n",
              "    .dataframe tbody tr th:only-of-type {\n",
              "        vertical-align: middle;\n",
              "    }\n",
              "\n",
              "    .dataframe tbody tr th {\n",
              "        vertical-align: top;\n",
              "    }\n",
              "\n",
              "    .dataframe thead th {\n",
              "        text-align: right;\n",
              "    }\n",
              "</style>\n",
              "<table border=\"1\" class=\"dataframe\">\n",
              "  <thead>\n",
              "    <tr style=\"text-align: right;\">\n",
              "      <th></th>\n",
              "      <th>theme</th>\n",
              "      <th>text</th>\n",
              "      <th>title</th>\n",
              "      <th>url</th>\n",
              "    </tr>\n",
              "  </thead>\n",
              "  <tbody>\n",
              "    <tr>\n",
              "      <th>0</th>\n",
              "      <td>授業研究：熱力学</td>\n",
              "      <td>授業研究：熱力学 長倉さんの発表.　長倉さんは 初めて高３物理を持つことになり、高校３年生の...</td>\n",
              "      <td>ＹＰＣ2021年07月例会(07/25 Zoomによるオンライン例会）</td>\n",
              "      <td>https://www2.hamajima.co.jp/~tenjin/ypc/ypc217...</td>\n",
              "    </tr>\n",
              "    <tr>\n",
              "      <th>1</th>\n",
              "      <td>ピップエレキバンとチョークコイルによる気体分子運動模型</td>\n",
              "      <td>ピップエレキバンとチョークコイルによる気体分子運動模型 天野さんの紹介.　天野さんが紹介して...</td>\n",
              "      <td>ＹＰＣ2021年07月例会(07/25 Zoomによるオンライン例会）</td>\n",
              "      <td>https://www2.hamajima.co.jp/~tenjin/ypc/ypc217...</td>\n",
              "    </tr>\n",
              "    <tr>\n",
              "      <th>2</th>\n",
              "      <td>Wordの書き込み式プリントに使える方眼紙を簡単に作る方法</td>\n",
              "      <td>Wordの書き込み式プリントに使える方眼紙を簡単に作る方法 櫻井さんの発表.　櫻井さんは、自...</td>\n",
              "      <td>ＹＰＣ2021年07月例会(07/25 Zoomによるオンライン例会）</td>\n",
              "      <td>https://www2.hamajima.co.jp/~tenjin/ypc/ypc217...</td>\n",
              "    </tr>\n",
              "    <tr>\n",
              "      <th>3</th>\n",
              "      <td>markdownがすごい!</td>\n",
              "      <td>markdownがすごい! 長倉さんの発表.　長倉さんは、授業プリントと授業用のスライドは、...</td>\n",
              "      <td>ＹＰＣ2021年07月例会(07/25 Zoomによるオンライン例会）</td>\n",
              "      <td>https://www2.hamajima.co.jp/~tenjin/ypc/ypc217...</td>\n",
              "    </tr>\n",
              "    <tr>\n",
              "      <th>4</th>\n",
              "      <td>二酸化炭素で気柱共鳴</td>\n",
              "      <td>二酸化炭素で気柱共鳴 長舩さんの発表.　水位を変える気柱共鳴実験器で媒質（管内の気体）を二酸...</td>\n",
              "      <td>ＹＰＣ2021年07月例会(07/25 Zoomによるオンライン例会）</td>\n",
              "      <td>https://www2.hamajima.co.jp/~tenjin/ypc/ypc217...</td>\n",
              "    </tr>\n",
              "    <tr>\n",
              "      <th>...</th>\n",
              "      <td>...</td>\n",
              "      <td>...</td>\n",
              "      <td>...</td>\n",
              "      <td>...</td>\n",
              "    </tr>\n",
              "    <tr>\n",
              "      <th>3771</th>\n",
              "      <td>飛び出す色環</td>\n",
              "      <td>飛び出す色環　喜多さんの発表例の立体メガネChromaDepth３Ｄで見ると中央が飛び出して...</td>\n",
              "      <td>ＹＰＣ1997年１１月例会（11/12柿生西高校）</td>\n",
              "      <td>https://www2.hamajima.co.jp/~tenjin/ypc/ypc97y...</td>\n",
              "    </tr>\n",
              "    <tr>\n",
              "      <th>3772</th>\n",
              "      <td>レーザー光線で音の振動波形を見る</td>\n",
              "      <td>レーザー光線で音の振動波形を見る右近さんが披露してくれた実験。ミラーキューブを空冷ファンに接...</td>\n",
              "      <td>ＹＰＣ1997年10月例会（10/22慶應義塾高校）</td>\n",
              "      <td>https://www2.hamajima.co.jp/~tenjin/ypc/ypc97x...</td>\n",
              "    </tr>\n",
              "    <tr>\n",
              "      <th>3773</th>\n",
              "      <td>ビー玉による圧力のモデル</td>\n",
              "      <td>ビー玉による圧力のモデル　　水上さんの科学の祭典ステージ紹介上のレールから台はかりの上にビー...</td>\n",
              "      <td>ＹＰＣ1997年８月例会（8/30県立厚木高校）</td>\n",
              "      <td>https://www2.hamajima.co.jp/~tenjin/ypc/ypc978...</td>\n",
              "    </tr>\n",
              "    <tr>\n",
              "      <th>3774</th>\n",
              "      <td>手作りラブメータ（ハンドボイラ）</td>\n",
              "      <td>手作りラブメータ（ハンドボイラ）　高杉さん紹介資料瓶とエーテルで自作できます。..こちらは厚...</td>\n",
              "      <td>ＹＰＣ1997年８月例会（8/30県立厚木高校）</td>\n",
              "      <td>https://www2.hamajima.co.jp/~tenjin/ypc/ypc978...</td>\n",
              "    </tr>\n",
              "    <tr>\n",
              "      <th>3775</th>\n",
              "      <td>リング振り子の不思議</td>\n",
              "      <td>リング振り子の不思議　右近さん紹介リング振り子。どの輪も同じ周期で振れる。..原理を説明する...</td>\n",
              "      <td>ＹＰＣ1997年８月例会（8/30県立厚木高校）</td>\n",
              "      <td>https://www2.hamajima.co.jp/~tenjin/ypc/ypc978...</td>\n",
              "    </tr>\n",
              "  </tbody>\n",
              "</table>\n",
              "<p>3776 rows × 4 columns</p>\n",
              "</div>"
            ],
            "text/plain": [
              "                              theme  ...                                                url\n",
              "0                          授業研究：熱力学  ...  https://www2.hamajima.co.jp/~tenjin/ypc/ypc217...\n",
              "1       ピップエレキバンとチョークコイルによる気体分子運動模型  ...  https://www2.hamajima.co.jp/~tenjin/ypc/ypc217...\n",
              "2     Wordの書き込み式プリントに使える方眼紙を簡単に作る方法  ...  https://www2.hamajima.co.jp/~tenjin/ypc/ypc217...\n",
              "3                     markdownがすごい!  ...  https://www2.hamajima.co.jp/~tenjin/ypc/ypc217...\n",
              "4                        二酸化炭素で気柱共鳴  ...  https://www2.hamajima.co.jp/~tenjin/ypc/ypc217...\n",
              "...                             ...  ...                                                ...\n",
              "3771                         飛び出す色環  ...  https://www2.hamajima.co.jp/~tenjin/ypc/ypc97y...\n",
              "3772               レーザー光線で音の振動波形を見る  ...  https://www2.hamajima.co.jp/~tenjin/ypc/ypc97x...\n",
              "3773                   ビー玉による圧力のモデル  ...  https://www2.hamajima.co.jp/~tenjin/ypc/ypc978...\n",
              "3774               手作りラブメータ（ハンドボイラ）  ...  https://www2.hamajima.co.jp/~tenjin/ypc/ypc978...\n",
              "3775                     リング振り子の不思議  ...  https://www2.hamajima.co.jp/~tenjin/ypc/ypc978...\n",
              "\n",
              "[3776 rows x 4 columns]"
            ]
          },
          "metadata": {},
          "execution_count": 14
        }
      ]
    },
    {
      "cell_type": "code",
      "metadata": {
        "colab": {
          "base_uri": "https://localhost:8080/",
          "height": 34
        },
        "id": "0d8f59d2-59c7-45bd-9947-ce6541e905d3",
        "outputId": "97c18790-66cc-42c4-fcd2-98ed5dded173"
      },
      "source": [
        "#タイムスタンプをつけてcsv出力＆ダウンロード\n",
        "import datetime\n",
        "from google.colab import files\n",
        "now = datetime.datetime.now()\n",
        "filename = 'ypclog_' + now.strftime('%Y%m%d_%H%M%S') + '.csv'\n",
        "print(filename)\n",
        "df.to_csv(filename , encoding = 'utf-8-sig')\n",
        "files.download(filename)"
      ],
      "id": "0d8f59d2-59c7-45bd-9947-ce6541e905d3",
      "execution_count": 15,
      "outputs": [
        {
          "output_type": "stream",
          "name": "stdout",
          "text": [
            "ypclog_20210920_130402.csv\n"
          ]
        },
        {
          "output_type": "display_data",
          "data": {
            "application/javascript": [
              "\n",
              "    async function download(id, filename, size) {\n",
              "      if (!google.colab.kernel.accessAllowed) {\n",
              "        return;\n",
              "      }\n",
              "      const div = document.createElement('div');\n",
              "      const label = document.createElement('label');\n",
              "      label.textContent = `Downloading \"${filename}\": `;\n",
              "      div.appendChild(label);\n",
              "      const progress = document.createElement('progress');\n",
              "      progress.max = size;\n",
              "      div.appendChild(progress);\n",
              "      document.body.appendChild(div);\n",
              "\n",
              "      const buffers = [];\n",
              "      let downloaded = 0;\n",
              "\n",
              "      const channel = await google.colab.kernel.comms.open(id);\n",
              "      // Send a message to notify the kernel that we're ready.\n",
              "      channel.send({})\n",
              "\n",
              "      for await (const message of channel.messages) {\n",
              "        // Send a message to notify the kernel that we're ready.\n",
              "        channel.send({})\n",
              "        if (message.buffers) {\n",
              "          for (const buffer of message.buffers) {\n",
              "            buffers.push(buffer);\n",
              "            downloaded += buffer.byteLength;\n",
              "            progress.value = downloaded;\n",
              "          }\n",
              "        }\n",
              "      }\n",
              "      const blob = new Blob(buffers, {type: 'application/binary'});\n",
              "      const a = document.createElement('a');\n",
              "      a.href = window.URL.createObjectURL(blob);\n",
              "      a.download = filename;\n",
              "      div.appendChild(a);\n",
              "      a.click();\n",
              "      div.remove();\n",
              "    }\n",
              "  "
            ],
            "text/plain": [
              "<IPython.core.display.Javascript object>"
            ]
          },
          "metadata": {}
        },
        {
          "output_type": "display_data",
          "data": {
            "application/javascript": [
              "download(\"download_e7059353-e136-401d-a526-ae4fff2cbab3\", \"ypclog_20210920_130402.csv\", 4700587)"
            ],
            "text/plain": [
              "<IPython.core.display.Javascript object>"
            ]
          },
          "metadata": {}
        }
      ]
    }
  ]
}